{
  "nbformat": 4,
  "nbformat_minor": 0,
  "metadata": {
    "colab": {
      "name": "scaling_attack.ipynb",
      "provenance": [],
      "collapsed_sections": [
        "2VVypmr3c1J9",
        "a61ZKtSvzVDO",
        "Ijnvl1ttP99M",
        "qs7fzzABXsFy",
        "FOAVluMcfK2Q",
        "kxRW0zj_icft",
        "LVve2I8-dvub",
        "zfbioCeXfOIB",
        "Vy-wXkamfQfZ"
      ]
    },
    "kernelspec": {
      "display_name": "Python 3",
      "name": "python3"
    }
  },
  "cells": [
    {
      "cell_type": "markdown",
      "metadata": {
        "id": "L10_fSRESHJ-"
      },
      "source": [
        "# Team segfault\r\n",
        "\r\n",
        "This is an implementation of the scaling/camouflage attack described by Xiao et. al. in their paper, Seeing is Not Believing (2019).\r\n",
        "\r\n"
      ]
    },
    {
      "cell_type": "markdown",
      "metadata": {
        "id": "2VVypmr3c1J9"
      },
      "source": [
        "# Theory and Maths"
      ]
    },
    {
      "cell_type": "markdown",
      "metadata": {
        "id": "FZ_q8TaWPc-d"
      },
      "source": [
        "## Strong attack form"
      ]
    },
    {
      "cell_type": "markdown",
      "metadata": {
        "id": "OOGs6AIGSceG"
      },
      "source": [
        "\r\n",
        "The strong attack form (where the attacker specifies both the source and target images) has the following inputs and outputs.\r\n",
        "\r\n",
        "Input:\r\n",
        "```\r\n",
        "Scaling function  - Scale()\r\n",
        "Source image      - src_img\r\n",
        "Target image      - tgt_img\r\n",
        "Source image size - src_width, src_height\r\n",
        "Target image size - tgt_width, tgt_height\r\n",
        "```\r\n",
        "\r\n",
        "Output:\r\n",
        "```\r\n",
        "Attack image      - atk_img\r\n",
        "```\r\n",
        "\r\n",
        "The source image is defined as the original image that is to be scaled (input of ```Scale()```). \r\n",
        "\r\n",
        "The target image is defined as the deceptive image that the attacker wants the output of ```Scale()``` to look like. \r\n",
        "\r\n",
        "The attack image is the crafted image that is inputted into ```Scale()```.\r\n",
        "\r\n",
        "In non-code cells, the inputs and outputs will be represented as such:\r\n",
        "\r\n",
        "Scaling function - $Scale$ \\\\\r\n",
        "Source Image - $S$ \\\\\r\n",
        "Target image - $T$ \\\\\r\n",
        "Attack image - $A$ \r\n",
        "\r\n",
        "\r\n"
      ]
    },
    {
      "cell_type": "markdown",
      "metadata": {
        "id": "LyfpTSmItcTz"
      },
      "source": [
        "## Weak attack form"
      ]
    },
    {
      "cell_type": "markdown",
      "metadata": {
        "id": "d_OmxtAwtZrm"
      },
      "source": [
        "\r\n",
        "The weak attack form (where the attacker only specifies the target images) has the following inputs and outputs.\r\n",
        "\r\n",
        "Input:\r\n",
        "```\r\n",
        "Scaling function  - Scale()\r\n",
        "Target image      - tgt_img\r\n",
        "Attack image size - atk_width, atk_height\r\n",
        "Target image size - tgt_width, tgt_height\r\n",
        "```\r\n",
        "\r\n",
        "Output:\r\n",
        "```\r\n",
        "Attack image      - atk_img\r\n",
        "```\r\n",
        "\r\n",
        "The target image is defined as the deceptive image that the attacker wants the output of ```Scale()``` to look like. \r\n",
        "\r\n",
        "The attack image is the crafted image that is inputted into ```Scale()```.\r\n",
        "\r\n",
        "There is no source image here. The attacker specifies the dimensions of the attack image, which will look like noise, but will look like the target image when scaled.\r\n",
        "\r\n",
        "\r\n",
        "In non-code cells, the inputs and outputs are represented the same way as above.\r\n",
        "\r\n",
        "\r\n"
      ]
    },
    {
      "cell_type": "markdown",
      "metadata": {
        "id": "U8YuCB7OVDJw"
      },
      "source": [
        "## Pseudocode\r\n",
        "The pseudocode below is for the strong attack form. ```CL, CR, GetCoefficients``` and ```GetPerturbation``` is explained in the next few cells.\r\n"
      ]
    },
    {
      "cell_type": "markdown",
      "metadata": {
        "id": "QeFhDcoLboh-"
      },
      "source": [
        "### Pseudocode: Strong attack form\r\n",
        "\r\n",
        "```python\r\n",
        "GenerateAttackImage(Scale, src_img, tgt_img)\r\n",
        "  m, n   = get_size(src_img)\r\n",
        "  m', n' = get_size(tgt_img)\r\n",
        "\r\n",
        "  CL, CR = GetCoefficients(m, n, m', n')\r\n",
        "\r\n",
        "  // perturbation matrix of vertical attack\r\n",
        "  delta_v = zeros(m, n')\r\n",
        "\r\n",
        "  // intermediate source image\r\n",
        "  src_img* = Scale(src_img)\r\n",
        "\r\n",
        "  for col = 0 to n' - 1:\r\n",
        "    // vertical scaling attack\r\n",
        "    delta_v[:,col] = GetPerturbation(src_img*[:,col], tgt_img[:,col], CL, obj='min')\r\n",
        "\r\n",
        "  // intermdiate attack image\r\n",
        "  atk_img* = unsigned int(src_img* + delta_v)\r\n",
        "\r\n",
        "  // perturbation matrix of horizontal attack\r\n",
        "  delta_h = zeros(m, n)\r\n",
        "\r\n",
        "  for row = 0 to m - 1:\r\n",
        "    // horizontal scaling attack\r\n",
        "    delta_h[row,:] = GetPerturbation(src_img[row,:], atk_img*[row,:], CR, obj='min')\r\n",
        "\r\n",
        "  atk_img = unsigned int(src_img + delta_h)\r\n",
        "  return atk_img\r\n",
        "```\r\n",
        "\r\n",
        "```zeros(x,y)``` returns a matrix of zeros, size (x,y)\r\n",
        "\r\n",
        "```X[row,:]``` where X is a matrix of size (m,n), returns the specified row of X, a vector sized (1,n)\r\n",
        "\r\n",
        "```X[:,col]``` where X is a matrix of size (m,n), returns the specified column of X, a vector sized (m,1)\r\n"
      ]
    },
    {
      "cell_type": "markdown",
      "metadata": {
        "id": "pTsD2KADuxL6"
      },
      "source": [
        "### Pseudocode: Weak attack form\r\n",
        "This is the same as the strong attack form, except that instead of providing a source image, only the dimensions of the final attack image is provided and the objective fof GetPerturbation is 'max' instead of 'min' (explained in the next cell).\r\n",
        "\r\n",
        "```python\r\n",
        "GenerateAttackImage(Scale, atk_height, atk_width, tgt_img)\r\n",
        "  m, n   = atk_height, atk_width\r\n",
        "  m', n' = get_size(tgt_img)\r\n",
        "\r\n",
        "  CL, CR = GetCoefficients(m, n, m', n')\r\n",
        "\r\n",
        "  // perturbation matrix of vertical attack\r\n",
        "  delta_v = zeros(m, n')\r\n",
        "\r\n",
        "  // intermediate source image for weak attack form is\r\n",
        "  // the scaled tgt_img\r\n",
        "  // to dimensions m, n' \r\n",
        "  src_img* = Scale(tgt_img) \r\n",
        "\r\n",
        "  for col = 0 to n' - 1:\r\n",
        "    // vertical scaling attack\r\n",
        "    delta_v[:,col] = GetPerturbation(src_img*[:,col], tgt_img[:,col], CL, minmax='max')\r\n",
        "\r\n",
        "\r\n",
        "  // src_img for final GetPerturbation is\r\n",
        "  // the scaled tgt_img\r\n",
        "  // to dimensions m, n (atk_img size)\r\n",
        "  src_img = Scale(tgt_img)\r\n",
        "  \r\n",
        "  // intermdiate attack image\r\n",
        "  atk_img* = unsigned int(src_img* + delta_v)\r\n",
        "\r\n",
        "  // perturbation matrix of horizontal attack\r\n",
        "  delta_h = zeros(m, n)\r\n",
        "\r\n",
        "  for row = 0 to m - 1:\r\n",
        "    // horizontal scaling attack\r\n",
        "    delta_h[row,:] = GetPerturbation(src_img[row,:], atk_img*[row,:], CR, minmax='min')\r\n",
        "\r\n",
        "  atk_img = unsigned int(src_img + delta_h)\r\n",
        "  return atk_img\r\n",
        "```\r\n",
        "\r\n",
        "```zeros(x,y)``` returns a matrix of zeros, size (x,y)\r\n",
        "\r\n",
        "```X[row,:]``` where X is a matrix of size (m,n), returns the specified row of X, a vector sized (1,n)\r\n",
        "\r\n",
        "```X[:,col]``` where X is a matrix of size (m,n), returns the specified column of X, a vector sized (m,1)\r\n"
      ]
    },
    {
      "cell_type": "markdown",
      "metadata": {
        "id": "JDaotbEwbcn_"
      },
      "source": [
        "## GetCoefficient\r\n",
        "\r\n"
      ]
    },
    {
      "cell_type": "markdown",
      "metadata": {
        "id": "UdYNSBpe6VT2"
      },
      "source": [
        "### Inner workings of common scaling algorithms\r\n",
        "This corresponds to the Recovering Coefficients (5.3) section in the paper.\r\n",
        "\r\n",
        "The notation for matrices used is as follows:\r\n",
        "\r\n",
        ">Matrix $A_{m,n}$ has a size $(m,n)$ \\\\\r\n",
        "Matrix $I_x$ is an identity matrix of size $(x,x)$\r\n",
        "\r\n",
        "It was established that some common scaling algorithms can be represented by the following equation:\r\n",
        "\r\n",
        ">$Scale(X) = CL_{m',m} * X_{m,n} * CR_{n,n'}$\r\n",
        "\r\n",
        "Where $CL$ scales horizontally $(m \\rightarrow  m')$ and $CR$ scales vertically $(n \\rightarrow n')$ to give an output of size $(m', n')$.\r\n"
      ]
    },
    {
      "cell_type": "markdown",
      "metadata": {
        "id": "3VH3591U6LBo"
      },
      "source": [
        "### Finding $CL$ and $CR$\r\n",
        "By using the identity matrix, $I_{x}$, the respective $CL$ and $CR$ matrices \r\n",
        "can be found by taking advantage of the fact that they scale horizontally and vertically separately. \r\n",
        "\r\n",
        "This is done by setting the source image as $I_m * IN_{max}$ and scaling it to an $(m',m)$ size matrix (which negates the need for $CR$ to be applied) to obtain an approximation of $CL$, which is $D/IN_{max}$, where $D$ is the result of the scaling and $IN_{max}$ is the maximum pixel value for the image format (e.g. 255). \r\n",
        "\r\n",
        ">$CL_{m',m} * (I_m * IN_{max}) = CL_{m',m} * IN_{max}$ \\\\\r\n",
        "$(I_n * IN_{max}) * CR_{n,n'} = CR_{n,n'} * IN_{max}$ \\\\\r\n",
        "\r\n",
        "Finally, the approximation of $CL$ should be normalised. For each row in $CL$, divide each element by the sum of all elements in the row. The sum of each row should be 1.\r\n",
        ">$CL_{m',m(approx)}[i,:] = \\frac{CL_{m',m(approx)}[i,:]}{\\sum_{j = 0}^{m - 1} (CL_{m',n(approx)}[i,j])}$\r\n",
        " \r\n",
        "$X[i,:]$ and $X[:,j]$ refers to the $i$-th row and $j$-th column of matrix $X$ respectively."
      ]
    },
    {
      "cell_type": "markdown",
      "metadata": {
        "id": "CsWEhGzMzoQo"
      },
      "source": [
        "##Generating the attack image\r\n"
      ]
    },
    {
      "cell_type": "markdown",
      "metadata": {
        "id": "a61ZKtSvzVDO"
      },
      "source": [
        "\r\n",
        "### L-Norm\r\n",
        "The notation for L-norm used is as follows:\r\n",
        "\r\n",
        ">$\\ell_{2}(X)$ is the L2 norm of $X$ \\\\\r\n",
        "$\\ell_{\\infty}(X)$ is the L-infinity norm of $X$\r\n",
        "\r\n",
        "The L2 norm of a matrix is the square root of the sum of squares of all elements in the matrix. It is also known as the Euclidean norm. This can be described as\r\n",
        "\r\n",
        ">$\\ell_{2}(X_{m,n}) = \\sqrt{\\sum_{i = 1}^{m}\\sum_{j = 1}^{n} (X_{ij})^2}$\r\n",
        "\r\n",
        "The L-infinity norm of a matrix is the maximum absolute row sum in the matrix. This means we sum the magnitudes of elements row-wise and take the largest value. This can be described as\r\n",
        "\r\n",
        ">$\\ell_{\\infty}(X_{m,n}) =  \\substack{Max \\\\1 \\le i\\le m}[\\sum_{j = 1}^{n}(X_{ij})]$\r\n",
        "\r\n",
        "### Perturbation Functions, $\\Delta$\r\n",
        "The perturbation functions, $\\Delta_1$ and $\\Delta_2$ (written as `delta` in the code), are the differences between $A$ and $S$ and the final output image ($D$) and $T$ respectively. They are matrices with dimension $(m,n)$ and $(m',n')$, the size of the $S$ and $T$ respectively.\r\n",
        "\r\n",
        "This is described by the following equations\r\n",
        "        \r\n",
        ">$A$ = $S$ + $\\Delta_1$ \\\\\r\n",
        "$D$ = $T$ + $\\Delta_2$, where $D$ = $Scale(A)$\r\n",
        "\r\n",
        "\r\n",
        "The L-infinity norm of $\\Delta_2$ has a threshold, given by $\\epsilon$ * $IN_{max}$, where $\\epsilon$ is the specified contraint.\r\n",
        "\r\n",
        ">$\\ell_{\\infty}(\\Delta_2) \\le \\epsilon* IN_{max}$\r\n",
        "\r\n",
        "### Scaling Attack in Two Parts\r\n",
        "#### Image resizing\r\n",
        "As pointed out in the paper, due to the nature of the scaling being done in two parts (horizontal, then vertical or vice versa), resizing an image vertically is equivalent to resizing the same image's transpose horizontally. Therefore only one direction of scaling needs to be considered when generating $\\Delta_1$ (here, following the paper, vertical scaling is used).\r\n",
        "\r\n",
        "With $S$, $T$ and $CL_{m',m}$ recovered from the previous section, we will create the attack image, $A = S + \\Delta_1$.\r\n",
        "\r\n",
        "\r\n",
        "#### Calculation of perturbation matrix\r\n",
        "$Scale$ is surjective, meaning for an image $D$ such that $Scale(A) = D$, there are multiple possible $A$ inputs that give the same output $D$. As $A = S + \\Delta_1$, $\\Delta_1$ needs to be generated and optimised to create the best attack image.\r\n",
        "\r\n",
        "The objective function for the strong attack form is to minimise the square of the L2 norm of $\\Delta_1$. We are minimising the sum of squares of each element in the matrix, which represent the difference between the $A$ and $S$. So we are minimising the difference between the images, such that $\\ell_{\\infty}(\\Delta_2)$ stays below the threshold ($\\epsilon*IN_{max}$).\r\n",
        "\r\n",
        "Conversely, the objective function for the weak attack form is to maximise it, as the goal is to get an image as different from the target image as possible that still looks like the target image when scaled.\r\n",
        "\r\n",
        "Image transformation can be written as:\r\n",
        "> $CL_{m',m} * A = [CL*A[:,0]_{(m,1)} \\dots CL*A[:,n - 1]_{(m,1)}]$\r\n",
        "\r\n",
        "Therefore, the above can be represented as:\r\n",
        "\r\n",
        ">Objective: \r\n",
        ">>Minimise/Maximise $(\\ell_{2}(\\Delta_1[:,j]))^2$\r\n",
        "\r\n",
        ">Subject to:\r\n",
        ">> $CL*A[:,j]_{(m,1)} = T[:,j]_{(m',1)} + \\Delta_2$ \\\\\r\n",
        "$\\ell_{\\infty}(\\Delta_2) \\le \\epsilon * IN_{max}$\r\n",
        "\r\n",
        "> $(j = 0, 1, ..., n - 1)$\r\n",
        "\r\n",
        "Image transformation can be written as:\r\n",
        "\r\n",
        "\r\n",
        "#### Optimisation Solution\r\n",
        "**Constraints**: Using the natural constraints of each element in the attack image A (pixel values), as mentioned above, each element should be within [0, $IN_{max}$]. Using this, we can get\r\n",
        "\r\n",
        "> $0 \\le A[:,j]_{(m,1)} \\le IN_{max}$ \\\\\r\n",
        "\r\n",
        "> $\\ell_{\\infty}(CL * A[:,j]_{(m,1)} - T[:,j]_{(m',1)}) \\le \\epsilon*IN_{max}$\r\n",
        "\r\n",
        "**Objective Function**: The objective function is equivalent to\r\n",
        "\r\n",
        "> $min/max(\\Delta_1[:,j]^T*I_m'*\\Delta_1[:,j])), (j = 0, 1, ..., n - 1)$\r\n",
        "\r\n",
        "Combining the objective function and constriants gives an $m'$-dimensional quadratic problem with inequality constraints.\r\n",
        "\r\n",
        "**This would be a good time to revisit the pseudocode if it didn't make sense before.**\r\n"
      ]
    },
    {
      "cell_type": "markdown",
      "metadata": {
        "id": "7xeC8ol3zdwo"
      },
      "source": [
        "### Concave-Convex Programming\r\n",
        "The strong attack model is a convex optimisation problem, as we are trying to minimise something (objective function) subject to constraints. \r\n",
        "\r\n",
        "Luckily for us, we have CVXPY and DCCP packages that help with these a ton. \r\n",
        "\r\n",
        "Some useful things:\r\n",
        "```\r\n",
        "A = cp.Variable(5) # vector variable of dimension (5,)\r\n",
        "M = cp.Variable(5,4) # matrix variable of dimension (5,4)\r\n",
        "\r\n",
        "cp.norm() # equivalent to square of L2 norm\r\n",
        "          # it can also calculate the L1 and L-infinity norm\r\n",
        "\r\n",
        "constraints = [] # list of constraints\r\n",
        "objective = cp.Minimize(...) # set objective to minimise something\r\n",
        "objective = cp.Maximise(...) # set objective to maximise something\r\n",
        "\r\n",
        "prob = cb.Problem(objective, constraints) # solves CCP problem\r\n",
        "```\r\n",
        "NumPy ndarrays and matrices and SciPy sparse matrices can be used as constants with CVXPY.\r\n"
      ]
    },
    {
      "cell_type": "markdown",
      "metadata": {
        "id": "AekyKlx6PhIT"
      },
      "source": [
        "# Some actual code now"
      ]
    },
    {
      "cell_type": "markdown",
      "metadata": {
        "id": "Ijnvl1ttP99M"
      },
      "source": [
        "## Setup\r\n",
        "Install `dccp` if not already installed."
      ]
    },
    {
      "cell_type": "code",
      "metadata": {
        "id": "bJ4FcKQdke08",
        "colab": {
          "base_uri": "https://localhost:8080/"
        },
        "outputId": "69f13273-173c-415e-c233-b197cdaed544"
      },
      "source": [
        "# Import statements\r\n",
        "! pip install dccp\r\n",
        "import matplotlib.pyplot as plt\r\n",
        "import numpy as np\r\n",
        "import cvxpy as cvx\r\n",
        "import dccp\r\n",
        "import cv2\r\n",
        "from google.colab import drive"
      ],
      "execution_count": 4,
      "outputs": [
        {
          "output_type": "stream",
          "text": [
            "Collecting dccp\n",
            "  Downloading https://files.pythonhosted.org/packages/f3/85/dcbdca35f6df4fd6f07e80cd6c419335f3d2e4f1143a533e6d8c2346a64d/dccp-1.0.3-py3-none-any.whl\n",
            "Requirement already satisfied: cvxpy>=0.3.5 in /usr/local/lib/python3.6/dist-packages (from dccp) (1.0.31)\n",
            "Requirement already satisfied: scs>=1.1.3 in /usr/local/lib/python3.6/dist-packages (from cvxpy>=0.3.5->dccp) (2.1.2)\n",
            "Requirement already satisfied: ecos>=2 in /usr/local/lib/python3.6/dist-packages (from cvxpy>=0.3.5->dccp) (2.0.7.post1)\n",
            "Requirement already satisfied: scipy>=1.1.0 in /usr/local/lib/python3.6/dist-packages (from cvxpy>=0.3.5->dccp) (1.4.1)\n",
            "Requirement already satisfied: multiprocess in /usr/local/lib/python3.6/dist-packages (from cvxpy>=0.3.5->dccp) (0.70.11.1)\n",
            "Requirement already satisfied: osqp>=0.4.1 in /usr/local/lib/python3.6/dist-packages (from cvxpy>=0.3.5->dccp) (0.6.2.post0)\n",
            "Requirement already satisfied: numpy>=1.15 in /usr/local/lib/python3.6/dist-packages (from cvxpy>=0.3.5->dccp) (1.19.5)\n",
            "Requirement already satisfied: dill>=0.3.3 in /usr/local/lib/python3.6/dist-packages (from multiprocess->cvxpy>=0.3.5->dccp) (0.3.3)\n",
            "Requirement already satisfied: qdldl in /usr/local/lib/python3.6/dist-packages (from osqp>=0.4.1->cvxpy>=0.3.5->dccp) (0.1.5.post0)\n",
            "Installing collected packages: dccp\n",
            "Successfully installed dccp-1.0.3\n"
          ],
          "name": "stdout"
        }
      ]
    },
    {
      "cell_type": "code",
      "metadata": {
        "colab": {
          "base_uri": "https://localhost:8080/"
        },
        "id": "pfyIXqOAvQlb",
        "outputId": "5873692c-793b-4df3-df83-19b43aa9f924"
      },
      "source": [
        "# Google Drive Mount\r\n",
        "drive.mount('/content/drive')\r\n",
        "\r\n",
        "# Change to your own drive's folder\r\n",
        "img_folder = '/content/drive/MyDrive/COMP0055/'"
      ],
      "execution_count": 5,
      "outputs": [
        {
          "output_type": "stream",
          "text": [
            "Mounted at /content/drive\n"
          ],
          "name": "stdout"
        }
      ]
    },
    {
      "cell_type": "code",
      "metadata": {
        "id": "d5vYM7huMN6T",
        "colab": {
          "base_uri": "https://localhost:8080/"
        },
        "outputId": "063f9774-6bff-4b19-999f-a5fccda092e0"
      },
      "source": [
        "# Images from github repo\r\n",
        "cat = img_folder + 'cat.jpg'\r\n",
        "wolf = img_folder + 'wolf.jpg'\r\n",
        "sheep = img_folder + 'baa.jpg'\r\n",
        "\r\n",
        "judd = img_folder + 'judd.jpg'\r\n",
        "ronnie = img_folder + 'ronnie.jpg'\r\n",
        "\r\n",
        "cat_a = img_folder + 'cat_a.jpg'\r\n",
        "dog_a = img_folder + 'dog_a.jpg'\r\n",
        "\r\n",
        "jeff = img_folder + 'jeff.jpg'\r\n",
        "stonks = img_folder + 'stonks.jpg'\r\n"
      ],
      "execution_count": 24,
      "outputs": [
        {
          "output_type": "execute_result",
          "data": {
            "text/plain": [
              "(1231, 1000, 3)"
            ]
          },
          "metadata": {
            "tags": []
          },
          "execution_count": 24
        }
      ]
    },
    {
      "cell_type": "markdown",
      "metadata": {
        "id": "qs7fzzABXsFy"
      },
      "source": [
        "## Scaling Functions"
      ]
    },
    {
      "cell_type": "code",
      "metadata": {
        "id": "TyHqTC3XPfer"
      },
      "source": [
        "# Resizes using the default resize function for CV2\r\n",
        "\r\n",
        "def resizeCV2(img, height, width):\r\n",
        "  # height, width is not the normal way picture dimensions are described\r\n",
        "  # but it's what you get back from .shape with cv2's imread\r\n",
        "  # i.e cv2.imread(picture).shape --> (height, width)\r\n",
        "  dim = (width, height)\r\n",
        "  img = cv2.resize(img, dim)\r\n",
        "  return img\r\n",
        "\r\n",
        "# TODO: try with other resizing functions"
      ],
      "execution_count": 7,
      "outputs": []
    },
    {
      "cell_type": "markdown",
      "metadata": {
        "id": "FOAVluMcfK2Q"
      },
      "source": [
        "## Get Coefficients `CL, CR`"
      ]
    },
    {
      "cell_type": "code",
      "metadata": {
        "id": "kTv7oSmzfUnk"
      },
      "source": [
        "def GetCoefficients(Scale, s_m, s_n, t_m, t_n, IN_max):\r\n",
        "  '''\r\n",
        "    Output:\r\n",
        "      CL (m',m)\r\n",
        "      CR (n, n') \r\n",
        "  '''\r\n",
        "\r\n",
        "  # Identity matrices size m,m and n,n\r\n",
        "  # where m and n are dimensions of the attack image (same as source)\r\n",
        "  identity_m = np.identity(s_m)\r\n",
        "  identity_n = np.identity(s_n)\r\n",
        "\r\n",
        "  CL = Scale(identity_m * IN_max, t_m, s_m)\r\n",
        "  for i in range(0, t_m):\r\n",
        "    CL[i,:] = CL[i,:] / CL[i,:].sum()\r\n",
        "\r\n",
        "  CR = Scale(identity_n * IN_max, s_n, t_n)\r\n",
        "  for i in range(0, t_n):\r\n",
        "    CR[:,i] = CR[:,i] / CR[:,i].sum()\r\n",
        "\r\n",
        "  return CL, CR\r\n"
      ],
      "execution_count": 8,
      "outputs": []
    },
    {
      "cell_type": "markdown",
      "metadata": {
        "id": "kxRW0zj_icft"
      },
      "source": [
        "## Get Perturbations\r\n"
      ]
    },
    {
      "cell_type": "code",
      "metadata": {
        "id": "TuRmhDvzE4ue"
      },
      "source": [
        "def GetPerturbationsCL(src, tgt, CL, e, IN_max, minmax):\r\n",
        "\r\n",
        "  '''\r\n",
        "  Input\r\n",
        "    src     source image column \r\n",
        "    tgt     target image column \r\n",
        "    CL      convert matrix left\r\n",
        "    e       constraint\r\n",
        "    IN_max  maximum pixel value for image format\r\n",
        "    minmax  minimise or maximise (for strong or weak attack forms respectively)\r\n",
        "\r\n",
        "  Output\r\n",
        "    delta_1 delta_1 column\r\n",
        "  \r\n",
        "\r\n",
        "  This function takes in two columns, src and tgt, and finds an optimal delta_1 column \r\n",
        "  subject to the contraints given in the constraints list below.\r\n",
        "  '''\r\n",
        "\r\n",
        "  # Dimensions of src and target\r\n",
        "  # No need for a second dimension as they are columns\r\n",
        "  in_dim = src.shape[0]\r\n",
        "  out_dim = tgt.shape[0]\r\n",
        "\r\n",
        "  # CVX Variables\r\n",
        "  delta_1 = cvx.Variable(src.shape)\r\n",
        "  atk = cvx.Variable(src.shape)\r\n",
        "\r\n",
        "  objective = None\r\n",
        "  constraints = [\r\n",
        "                atk >= 0,\r\n",
        "                atk <= IN_max,\r\n",
        "                atk == delta_1 + src,\r\n",
        "                cvx.norm(CL @ (atk) - tgt, 'inf') <= e * IN_max\r\n",
        "  ]\r\n",
        "\r\n",
        "  if(minmax == 'min'):\r\n",
        "    objective = cvx.Minimize(cvx.norm(delta_1,2))\r\n",
        "  elif(minmax == 'max'):\r\n",
        "    objective = cvx.Maximize(cvx.norm(delta_1,2))\r\n",
        "\r\n",
        "  # Convex problem in the form\r\n",
        "  # Min/Max (objective)\r\n",
        "  # Such that (constraints) are met\r\n",
        "\r\n",
        "  prob = cvx.Problem(objective, constraints)\r\n",
        "  \r\n",
        "  # Ensure problem is suitable for disciplined concave convex programming (dccp)\r\n",
        "  assert dccp.is_dccp(prob)\r\n",
        "   \r\n",
        "  result = prob.solve(method='dccp', verbose=False)\r\n",
        "\r\n",
        "  # Remove singleton dimensions\r\n",
        "  delta_1 = np.squeeze(delta_1.value)\r\n",
        "\r\n",
        "  return delta_1\r\n",
        "\r\n",
        "def GetPerturbationsCR(src, tgt, CR, e, IN_max, minmax):\r\n",
        "  in_dim = src.shape[0]\r\n",
        "  out_dim = tgt.shape[0]\r\n",
        "\r\n",
        "  src = src.reshape(1, -1)\r\n",
        "  tgt = tgt.reshape(1, -1)\r\n",
        "\r\n",
        "  delta_1 = cvx.Variable(src.shape)\r\n",
        "  atk = cvx.Variable(src.shape)\r\n",
        "\r\n",
        "  objective = None\r\n",
        "  constraints = [\r\n",
        "                atk >= 0,\r\n",
        "                atk <= IN_max,\r\n",
        "                atk == delta_1 + src,\r\n",
        "                cvx.norm(atk @ CR - tgt, 'inf') <= e * IN_max\r\n",
        "  ]\r\n",
        "\r\n",
        "  if(minmax == 'min'):\r\n",
        "    objective = cvx.Minimize(cvx.norm(delta_1,2))\r\n",
        "  elif(minmax == 'max'):\r\n",
        "    objective = cvx.Maximize(cvx.norm(delta_1,2))\r\n",
        "\r\n",
        "  prob = cvx.Problem(objective, constraints)\r\n",
        "  assert dccp.is_dccp(prob)\r\n",
        "  \r\n",
        "  result = prob.solve(method='dccp', verbose=False)\r\n",
        "  delta_1 = np.squeeze(delta_1.value)\r\n",
        "\r\n",
        "  return delta_1"
      ],
      "execution_count": 9,
      "outputs": []
    },
    {
      "cell_type": "markdown",
      "metadata": {
        "id": "LVve2I8-dvub"
      },
      "source": [
        "## Attack Forms\r\n"
      ]
    },
    {
      "cell_type": "markdown",
      "metadata": {
        "id": "zfbioCeXfOIB"
      },
      "source": [
        "### Strong Attack Form"
      ]
    },
    {
      "cell_type": "code",
      "metadata": {
        "id": "oU9atu3IjbCX"
      },
      "source": [
        "def StrongAttackFormGray(Scale, src_img, tgt_img):\r\n",
        "  \r\n",
        "  #TODO: Try with another solver (solver=cxv.{solver})\r\n",
        "\r\n",
        "  # Specify image factor\r\n",
        "  IN_max = 255\r\n",
        "\r\n",
        "  # Get dimensions of source and target images\r\n",
        "  s_m, s_n = src_img.shape # m,n\r\n",
        "  t_m, t_n = tgt_img.shape # m',n'\r\n",
        "\r\n",
        "  # Returns approximations of scaling matrices\r\n",
        "  CL, CR = GetCoefficients(Scale,s_m, s_n, t_m, t_n, IN_max)\r\n",
        "\r\n",
        "  # Column-wise scaled to target image\r\n",
        "  # Intermediate source image\r\n",
        "  int_src_img = Scale(src_img, s_m, t_n)\r\n",
        "  # Perturbation matrix of vertical attack\r\n",
        "  \r\n",
        "  # delta_v = np.zeros(src_img.shape)\r\n",
        "  delta_v = np.zeros((s_m, t_n))#, dtype=np.uintc)\r\n",
        "\r\n",
        "  for col in range(0, t_n):\r\n",
        "    delta_v[:,col] = GetPerturbationsCL(int_src_img[:,col], tgt_img[:,col], CL, 0.01, IN_max)\r\n",
        "  \r\n",
        "  int_atk_img = int_src_img + delta_v\r\n",
        "\r\n",
        "  delta_h = np.zeros((src_img.shape))#, dtype=np.uintc)\r\n",
        "  \r\n",
        "  for row in range(0, s_m):\r\n",
        "    delta_h[row,:] = GetPerturbationsCR(src_img[row,:], int_atk_img[row,:], CR, 0.01, IN_max)\r\n",
        "\r\n",
        "  atk_img = src_img + delta_h\r\n",
        "  return atk_img"
      ],
      "execution_count": 13,
      "outputs": []
    },
    {
      "cell_type": "markdown",
      "metadata": {
        "id": "Vy-wXkamfQfZ"
      },
      "source": [
        "### Weak Attack Form\r\n"
      ]
    },
    {
      "cell_type": "code",
      "metadata": {
        "id": "0HEITsxofSRn"
      },
      "source": [
        "def WeakAttackFormGray(Scale, src_height, src_width, tgt_img):\r\n",
        "  \r\n",
        "  #TODO: Try with another solver (solver=cxv.{solver})\r\n",
        "\r\n",
        "  # Specify image factor\r\n",
        "  IN_max = 255\r\n",
        "\r\n",
        "  # Get dimensions of source and target images\r\n",
        "  s_m = src_height\r\n",
        "  s_n = src_width\r\n",
        "  t_m, t_n = tgt_img.shape # m',n'\r\n",
        "\r\n",
        "  # Returns approximations of scaling matrices\r\n",
        "  CL, CR = GetCoefficients(Scale,s_m, s_n, t_m, t_n, IN_max)\r\n",
        "\r\n",
        "  # Column-wise scaled to target image\r\n",
        "  # Intermediate source image\r\n",
        "  int_src_img = Scale(tgt_img, s_m, t_n)\r\n",
        "\r\n",
        "  # Perturbation matrix of vertical attack\r\n",
        "  delta_v = np.zeros((s_m, t_n))#, dtype=np.uintc)\r\n",
        "\r\n",
        "  for col in range(0, t_n):\r\n",
        "    delta_v[:,col] = GetPerturbationsCL(int_src_img[:,col], tgt_img[:,col], CL, 0.01, IN_max, 'max')\r\n",
        "\r\n",
        "  src_img = Scale(tgt_img, s_m, s_n)\r\n",
        "\r\n",
        "  int_atk_img = int_src_img + delta_v\r\n",
        "\r\n",
        "  delta_h = np.zeros((s_m, s_n))#, dtype=np.uintc)\r\n",
        "  \r\n",
        "  for row in range(0, s_m):\r\n",
        "    delta_h[row,:] = GetPerturbationsCR(src_img[row,:], int_atk_img[row,:], CR, 0.01, IN_max, 'max')\r\n",
        "\r\n",
        "  atk_img = src_img + delta_h\r\n",
        "  return atk_img"
      ],
      "execution_count": 15,
      "outputs": []
    },
    {
      "cell_type": "markdown",
      "metadata": {
        "id": "m5oG1sYaxJ9X"
      },
      "source": [
        "## Main Functions"
      ]
    },
    {
      "cell_type": "code",
      "metadata": {
        "id": "kh3RFQQCl6Ym"
      },
      "source": [
        "# Run Strong Attack Form\r\n",
        "\r\n",
        "# Get source and target images\r\n",
        "src = cv2.imread(jeff, 0)\r\n",
        "tgt = cv2.imread(stonks, 0)\r\n",
        "a,b = tgt.shape\r\n",
        "\r\n",
        "# Generate attack image\r\n",
        "atk_img = StrongAttackFormGray(resizeCV2, src, tgt)\r\n",
        "\r\n",
        "# Display attack image and output image (scaled attack image)\r\n",
        "plt.figure(figsize=(20,10))\r\n",
        "plt.subplot(2, 2, 1)\r\n",
        "plt.title('Attack Image')\r\n",
        "plt.imshow(atk_img,cmap='gray', vmin=0, vmax=255)\r\n",
        "\r\n",
        "plt.figure(figsize=(20,10))\r\n",
        "plt.subplot(2, 2, 2)\r\n",
        "plt.title('Scaled Image')\r\n",
        "plt.imshow(resizeCV2(atk_img, a, b), cmap='gray', vmin=0, vmax=255)\r\n",
        "\r\n",
        "# # Save attack image locally (change file name and don't forget to download)\r\n",
        "# plt.imsave('{attack image name here}.jpg', atk_img, cmap='gray')"
      ],
      "execution_count": null,
      "outputs": []
    },
    {
      "cell_type": "code",
      "metadata": {
        "id": "W8pvJBSvZgh-"
      },
      "source": [
        "# Run Weak Attack Form\r\n",
        "\r\n",
        "# Get target image\r\n",
        "tgt = cv2.imread(judd, 0)\r\n",
        "a, b = tgt.shape\r\n",
        "\r\n",
        "# Generate attack image\r\n",
        "atk_img = WeakAttackFormGray(resizeCV2, 1200, 1000, tgt)\r\n",
        "\r\n",
        "# Display attack image and output image (scaled attack image)\r\n",
        "plt.figure(figsize=(20,10))\r\n",
        "plt.subplot(2, 2, 1)\r\n",
        "plt.title('Attack Image')\r\n",
        "plt.imshow(atk_img,cmap='gray', vmin=0, vmax=255)\r\n",
        "\r\n",
        "plt.figure(figsize=(20,10))\r\n",
        "plt.subplot(2, 2, 2)\r\n",
        "plt.title('Scaled Image')\r\n",
        "plt.imshow(resizeCV2(atk_img, a, b), cmap='gray', vmin=0, vmax=255)\r\n",
        "\r\n",
        "# # Save attack image locally (change file name and don't forget to download)\r\n",
        "# plt.imsave('{attack image name here}.jpg', atk_img, cmap='gray')"
      ],
      "execution_count": 18,
      "outputs": []
    },
    {
      "cell_type": "code",
      "metadata": {
        "id": "4vrCnR77ywoR"
      },
      "source": [
        "# Test existing attack image\r\n",
        "\r\n",
        "atk_img = '/content/atk_jeff.jpg'\r\n",
        "atk_img = cv2.imread(atk_img, 0)\r\n",
        "\r\n",
        "# dimensions to be scaled to\r\n",
        "a = 250\r\n",
        "b = 203\r\n",
        "\r\n",
        "# Display attack image and output image (scaled attack image)\r\n",
        "plt.figure(figsize=(20,10))\r\n",
        "plt.subplot(2, 2, 1)\r\n",
        "plt.title('Attack Image')\r\n",
        "plt.imshow(atk_img,cmap='gray', vmin=0, vmax=255)\r\n",
        "\r\n",
        "plt.figure(figsize=(20,10))\r\n",
        "plt.subplot(2, 2, 2)\r\n",
        "plt.title('Scaled Image')\r\n",
        "plt.imshow(resizeCV2(atk_img, a, b), cmap='gray', vmin=0, vmax=255)"
      ],
      "execution_count": null,
      "outputs": []
    },
    {
      "cell_type": "markdown",
      "metadata": {
        "id": "PSXqMEZIebJW"
      },
      "source": [
        "#References"
      ]
    },
    {
      "cell_type": "markdown",
      "metadata": {
        "id": "uRSWkZfQeIxH"
      },
      "source": [
        "\r\n",
        "https://stackoverflow.com/questions/63519965/torch-transform-resize-vs-cv2-resize\r\n",
        "https://pytorch.org/docs/stable/generated/torch.transpose.html\r\n",
        "https://stackoverflow.com/questions/29241056/how-does-numpy-newaxis-work-and-when-to-use-it\r\n",
        "https://docs.opencv.org/master/d3/df2/tutorial_py_basic_ops.html\r\n",
        "https://www.cvxpy.org/tutorial/intro/index.html\r\n",
        "https://github.com/cvxgrp/dccp\r\n",
        "https://web.stanford.edu/~boyd/papers/pdf/dccp.pdf\r\n",
        "https://docs.opencv.org/3.4/d8/d6a/group__imgcodecs__flags.html\r\n",
        "https://arxiv.org/pdf/1604.02639.pdf\r\n"
      ]
    }
  ]
}